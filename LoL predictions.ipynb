{
 "cells": [
  {
   "cell_type": "code",
   "execution_count": 16,
   "metadata": {},
   "outputs": [
    {
     "name": "stdout",
     "output_type": "stream",
     "text": [
      "opened file for ticker:  games \n",
      "\n",
      "The total length of the dataframe is 51490 rows and the width is 61 columns\n"
     ]
    }
   ],
   "source": [
    "\"\"\"\n",
    "Eric Born\n",
    "Class: CS677 - Summer 2\n",
    "Date: 12 Aug 2019\n",
    "Final project\n",
    "Predicting the winning team in the video game League of Legends\n",
    "\"\"\"\n",
    "\n",
    "import os\n",
    "from sys import exit\n",
    "import matplotlib.pyplot as plt\n",
    "import numpy as np\n",
    "import pandas as pd\n",
    "import seaborn as sns\n",
    "#from sklearn.ensemble import RandomForestClassifier\n",
    "#from sklearn.metrics import confusion_matrix, recall_score\n",
    "from sklearn.model_selection import train_test_split\n",
    "from sklearn.model_selection import StratifiedKFold\n",
    "\n",
    "sns.set_style(\"darkgrid\")\n",
    "\n",
    "# setup input directory and filename\n",
    "data = 'games'\n",
    "input_dir = r'C:\\Users\\TomBrody\\Desktop\\School\\677\\Final'\n",
    "ticker_file = os.path.join(input_dir, data + '.csv')\n",
    "\n",
    "# read csv file into dataframe\n",
    "try:\n",
    "    lol_df = pd.read_csv(ticker_file)\n",
    "    print('opened file for ticker: ', data,'\\n')\n",
    "\n",
    "except Exception as e:\n",
    "    print(e)\n",
    "    exit('failed to read LoL data from: '+ str(data)+'.csv')\n",
    "\n",
    "# describe the total rows and columns\n",
    "print('The total length of the dataframe is', lol_df.shape[0], 'rows',\n",
    "      'and the width is', lol_df.shape[1], 'columns')"
   ]
  },
  {
   "cell_type": "code",
   "execution_count": 17,
   "metadata": {},
   "outputs": [
    {
     "name": "stdout",
     "output_type": "stream",
     "text": [
      "The total length of the dataframe is 51490 rows and the width is 59 columns\n"
     ]
    }
   ],
   "source": [
    "# remove columns creationTime and seasonId\n",
    "lol_df.drop(lol_df.columns[[1, 3]], \n",
    "                     axis = 1, inplace = True)\n",
    "\n",
    "# describe the total rows and columns\n",
    "print('The total length of the dataframe is', lol_df.shape[0], 'rows',\n",
    "      'and the width is', lol_df.shape[1], 'columns')"
   ]
  },
  {
   "cell_type": "code",
   "execution_count": 20,
   "metadata": {},
   "outputs": [
    {
     "name": "stdout",
     "output_type": "stream",
     "text": [
      "Total team 1 wins: 26077\n",
      "Total team 2 wins: 25413\n",
      "\n",
      "Team win ratios\n",
      " team 1 : team 2\n",
      " 1.0261 :   1\n"
     ]
    }
   ],
   "source": [
    "# print the number of wins by team 1 and team 2 \n",
    "for win in range(1, 3):\n",
    "    print('Total team', win, 'wins:', sum(lol_df.winner == win))\n",
    "\n",
    "# store wins in variable for each time\n",
    "team1 = sum(lol_df.winner == 1)\n",
    "team2 = sum(lol_df.winner == 2)\n",
    "\n",
    "# create a ratio of the wins\n",
    "ratio = round(team1 / team2, 4)\n",
    "print('\\nTeam win ratios\\n','team 1 : team 2\\n', str(ratio)+' :   1')"
   ]
  },
  {
   "cell_type": "code",
   "execution_count": null,
   "metadata": {},
   "outputs": [],
   "source": []
  },
  {
   "cell_type": "code",
   "execution_count": null,
   "metadata": {},
   "outputs": [],
   "source": [
    "# split dataset into 33% test 66% training\n",
    "lol_df_train, lol_df_test = train_test_split"
   ]
  }
 ],
 "metadata": {
  "kernelspec": {
   "display_name": "Python 3",
   "language": "python",
   "name": "python3"
  },
  "language_info": {
   "codemirror_mode": {
    "name": "ipython",
    "version": 3
   },
   "file_extension": ".py",
   "mimetype": "text/x-python",
   "name": "python",
   "nbconvert_exporter": "python",
   "pygments_lexer": "ipython3",
   "version": "3.7.3"
  }
 },
 "nbformat": 4,
 "nbformat_minor": 2
}
